{
 "cells": [
  {
   "cell_type": "code",
   "execution_count": 1,
   "metadata": {},
   "outputs": [],
   "source": [
    "import numpy as np\n",
    "import seaborn as sb\n",
    "import pandas as pd"
   ]
  },
  {
   "cell_type": "code",
   "execution_count": 2,
   "metadata": {},
   "outputs": [],
   "source": [
    "df = sb.load_dataset('iris')"
   ]
  },
  {
   "cell_type": "code",
   "execution_count": 3,
   "metadata": {},
   "outputs": [
    {
     "data": {
      "text/html": [
       "<div>\n",
       "<style scoped>\n",
       "    .dataframe tbody tr th:only-of-type {\n",
       "        vertical-align: middle;\n",
       "    }\n",
       "\n",
       "    .dataframe tbody tr th {\n",
       "        vertical-align: top;\n",
       "    }\n",
       "\n",
       "    .dataframe thead th {\n",
       "        text-align: right;\n",
       "    }\n",
       "</style>\n",
       "<table border=\"1\" class=\"dataframe\">\n",
       "  <thead>\n",
       "    <tr style=\"text-align: right;\">\n",
       "      <th></th>\n",
       "      <th>sepal_length</th>\n",
       "      <th>sepal_width</th>\n",
       "      <th>petal_length</th>\n",
       "      <th>petal_width</th>\n",
       "      <th>species</th>\n",
       "    </tr>\n",
       "  </thead>\n",
       "  <tbody>\n",
       "    <tr>\n",
       "      <th>0</th>\n",
       "      <td>5.1</td>\n",
       "      <td>3.5</td>\n",
       "      <td>1.4</td>\n",
       "      <td>0.2</td>\n",
       "      <td>setosa</td>\n",
       "    </tr>\n",
       "    <tr>\n",
       "      <th>1</th>\n",
       "      <td>4.9</td>\n",
       "      <td>3.0</td>\n",
       "      <td>1.4</td>\n",
       "      <td>0.2</td>\n",
       "      <td>setosa</td>\n",
       "    </tr>\n",
       "    <tr>\n",
       "      <th>2</th>\n",
       "      <td>4.7</td>\n",
       "      <td>3.2</td>\n",
       "      <td>1.3</td>\n",
       "      <td>0.2</td>\n",
       "      <td>setosa</td>\n",
       "    </tr>\n",
       "    <tr>\n",
       "      <th>3</th>\n",
       "      <td>4.6</td>\n",
       "      <td>3.1</td>\n",
       "      <td>1.5</td>\n",
       "      <td>0.2</td>\n",
       "      <td>setosa</td>\n",
       "    </tr>\n",
       "    <tr>\n",
       "      <th>4</th>\n",
       "      <td>5.0</td>\n",
       "      <td>3.6</td>\n",
       "      <td>1.4</td>\n",
       "      <td>0.2</td>\n",
       "      <td>setosa</td>\n",
       "    </tr>\n",
       "  </tbody>\n",
       "</table>\n",
       "</div>"
      ],
      "text/plain": [
       "   sepal_length  sepal_width  petal_length  petal_width species\n",
       "0           5.1          3.5           1.4          0.2  setosa\n",
       "1           4.9          3.0           1.4          0.2  setosa\n",
       "2           4.7          3.2           1.3          0.2  setosa\n",
       "3           4.6          3.1           1.5          0.2  setosa\n",
       "4           5.0          3.6           1.4          0.2  setosa"
      ]
     },
     "execution_count": 3,
     "metadata": {},
     "output_type": "execute_result"
    }
   ],
   "source": [
    "df.head()"
   ]
  },
  {
   "cell_type": "code",
   "execution_count": 4,
   "metadata": {},
   "outputs": [
    {
     "data": {
      "text/plain": [
       "virginica     50\n",
       "versicolor    50\n",
       "setosa        50\n",
       "Name: species, dtype: int64"
      ]
     },
     "execution_count": 4,
     "metadata": {},
     "output_type": "execute_result"
    }
   ],
   "source": [
    "df.species.value_counts()"
   ]
  },
  {
   "cell_type": "code",
   "execution_count": 5,
   "metadata": {},
   "outputs": [],
   "source": [
    "X = df.drop(['species'],axis=1)"
   ]
  },
  {
   "cell_type": "code",
   "execution_count": 6,
   "metadata": {},
   "outputs": [],
   "source": [
    "Y = df.species"
   ]
  },
  {
   "cell_type": "code",
   "execution_count": 7,
   "metadata": {},
   "outputs": [
    {
     "data": {
      "text/html": [
       "<div>\n",
       "<style scoped>\n",
       "    .dataframe tbody tr th:only-of-type {\n",
       "        vertical-align: middle;\n",
       "    }\n",
       "\n",
       "    .dataframe tbody tr th {\n",
       "        vertical-align: top;\n",
       "    }\n",
       "\n",
       "    .dataframe thead th {\n",
       "        text-align: right;\n",
       "    }\n",
       "</style>\n",
       "<table border=\"1\" class=\"dataframe\">\n",
       "  <thead>\n",
       "    <tr style=\"text-align: right;\">\n",
       "      <th></th>\n",
       "      <th>sepal_length</th>\n",
       "      <th>sepal_width</th>\n",
       "      <th>petal_length</th>\n",
       "      <th>petal_width</th>\n",
       "    </tr>\n",
       "  </thead>\n",
       "  <tbody>\n",
       "    <tr>\n",
       "      <th>0</th>\n",
       "      <td>5.1</td>\n",
       "      <td>3.5</td>\n",
       "      <td>1.4</td>\n",
       "      <td>0.2</td>\n",
       "    </tr>\n",
       "    <tr>\n",
       "      <th>1</th>\n",
       "      <td>4.9</td>\n",
       "      <td>3.0</td>\n",
       "      <td>1.4</td>\n",
       "      <td>0.2</td>\n",
       "    </tr>\n",
       "    <tr>\n",
       "      <th>2</th>\n",
       "      <td>4.7</td>\n",
       "      <td>3.2</td>\n",
       "      <td>1.3</td>\n",
       "      <td>0.2</td>\n",
       "    </tr>\n",
       "    <tr>\n",
       "      <th>3</th>\n",
       "      <td>4.6</td>\n",
       "      <td>3.1</td>\n",
       "      <td>1.5</td>\n",
       "      <td>0.2</td>\n",
       "    </tr>\n",
       "    <tr>\n",
       "      <th>4</th>\n",
       "      <td>5.0</td>\n",
       "      <td>3.6</td>\n",
       "      <td>1.4</td>\n",
       "      <td>0.2</td>\n",
       "    </tr>\n",
       "  </tbody>\n",
       "</table>\n",
       "</div>"
      ],
      "text/plain": [
       "   sepal_length  sepal_width  petal_length  petal_width\n",
       "0           5.1          3.5           1.4          0.2\n",
       "1           4.9          3.0           1.4          0.2\n",
       "2           4.7          3.2           1.3          0.2\n",
       "3           4.6          3.1           1.5          0.2\n",
       "4           5.0          3.6           1.4          0.2"
      ]
     },
     "execution_count": 7,
     "metadata": {},
     "output_type": "execute_result"
    }
   ],
   "source": [
    "X.head()"
   ]
  },
  {
   "cell_type": "code",
   "execution_count": 8,
   "metadata": {},
   "outputs": [],
   "source": [
    "#adding Bias\n",
    "X['B']=1"
   ]
  },
  {
   "cell_type": "code",
   "execution_count": 9,
   "metadata": {},
   "outputs": [
    {
     "data": {
      "text/html": [
       "<div>\n",
       "<style scoped>\n",
       "    .dataframe tbody tr th:only-of-type {\n",
       "        vertical-align: middle;\n",
       "    }\n",
       "\n",
       "    .dataframe tbody tr th {\n",
       "        vertical-align: top;\n",
       "    }\n",
       "\n",
       "    .dataframe thead th {\n",
       "        text-align: right;\n",
       "    }\n",
       "</style>\n",
       "<table border=\"1\" class=\"dataframe\">\n",
       "  <thead>\n",
       "    <tr style=\"text-align: right;\">\n",
       "      <th></th>\n",
       "      <th>sepal_length</th>\n",
       "      <th>sepal_width</th>\n",
       "      <th>petal_length</th>\n",
       "      <th>petal_width</th>\n",
       "      <th>B</th>\n",
       "    </tr>\n",
       "  </thead>\n",
       "  <tbody>\n",
       "    <tr>\n",
       "      <th>0</th>\n",
       "      <td>5.1</td>\n",
       "      <td>3.5</td>\n",
       "      <td>1.4</td>\n",
       "      <td>0.2</td>\n",
       "      <td>1</td>\n",
       "    </tr>\n",
       "    <tr>\n",
       "      <th>1</th>\n",
       "      <td>4.9</td>\n",
       "      <td>3.0</td>\n",
       "      <td>1.4</td>\n",
       "      <td>0.2</td>\n",
       "      <td>1</td>\n",
       "    </tr>\n",
       "    <tr>\n",
       "      <th>2</th>\n",
       "      <td>4.7</td>\n",
       "      <td>3.2</td>\n",
       "      <td>1.3</td>\n",
       "      <td>0.2</td>\n",
       "      <td>1</td>\n",
       "    </tr>\n",
       "    <tr>\n",
       "      <th>3</th>\n",
       "      <td>4.6</td>\n",
       "      <td>3.1</td>\n",
       "      <td>1.5</td>\n",
       "      <td>0.2</td>\n",
       "      <td>1</td>\n",
       "    </tr>\n",
       "    <tr>\n",
       "      <th>4</th>\n",
       "      <td>5.0</td>\n",
       "      <td>3.6</td>\n",
       "      <td>1.4</td>\n",
       "      <td>0.2</td>\n",
       "      <td>1</td>\n",
       "    </tr>\n",
       "  </tbody>\n",
       "</table>\n",
       "</div>"
      ],
      "text/plain": [
       "   sepal_length  sepal_width  petal_length  petal_width  B\n",
       "0           5.1          3.5           1.4          0.2  1\n",
       "1           4.9          3.0           1.4          0.2  1\n",
       "2           4.7          3.2           1.3          0.2  1\n",
       "3           4.6          3.1           1.5          0.2  1\n",
       "4           5.0          3.6           1.4          0.2  1"
      ]
     },
     "execution_count": 9,
     "metadata": {},
     "output_type": "execute_result"
    }
   ],
   "source": [
    "X.head()"
   ]
  },
  {
   "cell_type": "code",
   "execution_count": 10,
   "metadata": {},
   "outputs": [],
   "source": [
    "from sklearn.neural_network import MLPRegressor"
   ]
  },
  {
   "cell_type": "code",
   "execution_count": 11,
   "metadata": {},
   "outputs": [],
   "source": [
    "mlp = MLPRegressor(solver='lbfgs',activation='logistic',learning_rate_init=0.00001, alpha=1e-5, \n",
    "                   hidden_layer_sizes=(5,1,5),max_iter=1000000,random_state=111)"
   ]
  },
  {
   "cell_type": "markdown",
   "metadata": {},
   "source": [
    "Train the network (fit)"
   ]
  },
  {
   "cell_type": "code",
   "execution_count": 12,
   "metadata": {},
   "outputs": [],
   "source": [
    "mlp.fit(X,X)\n",
    "predictions = mlp.predict(X)"
   ]
  },
  {
   "cell_type": "code",
   "execution_count": 13,
   "metadata": {},
   "outputs": [
    {
     "data": {
      "text/plain": [
       "sepal_length    4.9\n",
       "sepal_width     3.0\n",
       "petal_length    1.4\n",
       "petal_width     0.2\n",
       "B               1.0\n",
       "Name: 1, dtype: float64"
      ]
     },
     "execution_count": 13,
     "metadata": {},
     "output_type": "execute_result"
    }
   ],
   "source": [
    "X.iloc[1]"
   ]
  },
  {
   "cell_type": "code",
   "execution_count": 14,
   "metadata": {},
   "outputs": [
    {
     "data": {
      "text/plain": [
       "array([4.73999638, 3.07618225, 1.44303085, 0.17833639, 1.0004184 ])"
      ]
     },
     "execution_count": 14,
     "metadata": {},
     "output_type": "execute_result"
    }
   ],
   "source": [
    "predictions[1]"
   ]
  },
  {
   "cell_type": "code",
   "execution_count": 15,
   "metadata": {},
   "outputs": [
    {
     "name": "stdout",
     "output_type": "stream",
     "text": [
      "4\n",
      "(5, 5)\n",
      "(5, 1)\n",
      "(1, 5)\n",
      "(5, 5)\n"
     ]
    }
   ],
   "source": [
    "print(len(mlp.coefs_))\n",
    "for i in mlp.coefs_:\n",
    "    print (i.shape)"
   ]
  },
  {
   "cell_type": "code",
   "execution_count": 16,
   "metadata": {},
   "outputs": [],
   "source": [
    "def sigmoid(x):\n",
    "    return 1/(1+np.exp(-x))"
   ]
  },
  {
   "cell_type": "markdown",
   "metadata": {},
   "source": [
    "# Encode"
   ]
  },
  {
   "cell_type": "code",
   "execution_count": 17,
   "metadata": {},
   "outputs": [],
   "source": [
    "samp = X.values[0]"
   ]
  },
  {
   "cell_type": "code",
   "execution_count": 18,
   "metadata": {},
   "outputs": [
    {
     "data": {
      "text/plain": [
       "array([5.1, 3.5, 1.4, 0.2, 1. ])"
      ]
     },
     "execution_count": 18,
     "metadata": {},
     "output_type": "execute_result"
    }
   ],
   "source": [
    "samp"
   ]
  },
  {
   "cell_type": "code",
   "execution_count": 19,
   "metadata": {},
   "outputs": [
    {
     "data": {
      "text/plain": [
       "0.04833450882104276"
      ]
     },
     "execution_count": 19,
     "metadata": {},
     "output_type": "execute_result"
    }
   ],
   "source": [
    "l1 = sigmoid(np.dot(samp,mlp.coefs_[0])+mlp.intercepts_[0])\n",
    "l2 = sigmoid(np.dot(l1,mlp.coefs_[1])+mlp.intercepts_[1])\n",
    "l2[0]"
   ]
  },
  {
   "cell_type": "code",
   "execution_count": 20,
   "metadata": {},
   "outputs": [
    {
     "data": {
      "text/plain": [
       "array([0.04833451])"
      ]
     },
     "execution_count": 20,
     "metadata": {},
     "output_type": "execute_result"
    }
   ],
   "source": [
    "l2"
   ]
  },
  {
   "cell_type": "markdown",
   "metadata": {},
   "source": [
    "# Decode"
   ]
  },
  {
   "cell_type": "code",
   "execution_count": 21,
   "metadata": {},
   "outputs": [
    {
     "data": {
      "text/plain": [
       "array([5.09380016, 3.54710521, 1.45595706, 0.2490054 , 1.00031323])"
      ]
     },
     "execution_count": 21,
     "metadata": {},
     "output_type": "execute_result"
    }
   ],
   "source": [
    "l3 = sigmoid(np.dot(l2,mlp.coefs_[2])+mlp.intercepts_[2])\n",
    "l4 = np.dot(l3,mlp.coefs_[3])+mlp.intercepts_[3]\n",
    "l4"
   ]
  },
  {
   "cell_type": "code",
   "execution_count": 22,
   "metadata": {},
   "outputs": [],
   "source": [
    "def encode(mlp,samp):\n",
    "    l1 = sigmoid(np.dot(samp,mlp.coefs_[0])+mlp.intercepts_[0])\n",
    "    l2 = sigmoid(np.dot(l1,mlp.coefs_[1])+mlp.intercepts_[1])\n",
    "    return l2[0]"
   ]
  },
  {
   "cell_type": "code",
   "execution_count": 23,
   "metadata": {},
   "outputs": [],
   "source": [
    "df['cls']=0\n",
    "for k,v in df.iterrows():\n",
    "    df.loc[k,'cls'] = encode(mlp,np.array([v.sepal_length , v.sepal_width,v.petal_length,v.petal_width,1]))"
   ]
  },
  {
   "cell_type": "code",
   "execution_count": 24,
   "metadata": {},
   "outputs": [
    {
     "data": {
      "text/html": [
       "<div>\n",
       "<style scoped>\n",
       "    .dataframe tbody tr th:only-of-type {\n",
       "        vertical-align: middle;\n",
       "    }\n",
       "\n",
       "    .dataframe tbody tr th {\n",
       "        vertical-align: top;\n",
       "    }\n",
       "\n",
       "    .dataframe thead th {\n",
       "        text-align: right;\n",
       "    }\n",
       "</style>\n",
       "<table border=\"1\" class=\"dataframe\">\n",
       "  <thead>\n",
       "    <tr style=\"text-align: right;\">\n",
       "      <th></th>\n",
       "      <th>sepal_length</th>\n",
       "      <th>sepal_width</th>\n",
       "      <th>petal_length</th>\n",
       "      <th>petal_width</th>\n",
       "      <th>species</th>\n",
       "      <th>cls</th>\n",
       "    </tr>\n",
       "  </thead>\n",
       "  <tbody>\n",
       "    <tr>\n",
       "      <th>0</th>\n",
       "      <td>5.1</td>\n",
       "      <td>3.5</td>\n",
       "      <td>1.4</td>\n",
       "      <td>0.2</td>\n",
       "      <td>setosa</td>\n",
       "      <td>0.048335</td>\n",
       "    </tr>\n",
       "    <tr>\n",
       "      <th>1</th>\n",
       "      <td>4.9</td>\n",
       "      <td>3.0</td>\n",
       "      <td>1.4</td>\n",
       "      <td>0.2</td>\n",
       "      <td>setosa</td>\n",
       "      <td>0.077885</td>\n",
       "    </tr>\n",
       "    <tr>\n",
       "      <th>2</th>\n",
       "      <td>4.7</td>\n",
       "      <td>3.2</td>\n",
       "      <td>1.3</td>\n",
       "      <td>0.2</td>\n",
       "      <td>setosa</td>\n",
       "      <td>0.071790</td>\n",
       "    </tr>\n",
       "    <tr>\n",
       "      <th>3</th>\n",
       "      <td>4.6</td>\n",
       "      <td>3.1</td>\n",
       "      <td>1.5</td>\n",
       "      <td>0.2</td>\n",
       "      <td>setosa</td>\n",
       "      <td>0.081436</td>\n",
       "    </tr>\n",
       "    <tr>\n",
       "      <th>4</th>\n",
       "      <td>5.0</td>\n",
       "      <td>3.6</td>\n",
       "      <td>1.4</td>\n",
       "      <td>0.2</td>\n",
       "      <td>setosa</td>\n",
       "      <td>0.046654</td>\n",
       "    </tr>\n",
       "  </tbody>\n",
       "</table>\n",
       "</div>"
      ],
      "text/plain": [
       "   sepal_length  sepal_width  petal_length  petal_width species       cls\n",
       "0           5.1          3.5           1.4          0.2  setosa  0.048335\n",
       "1           4.9          3.0           1.4          0.2  setosa  0.077885\n",
       "2           4.7          3.2           1.3          0.2  setosa  0.071790\n",
       "3           4.6          3.1           1.5          0.2  setosa  0.081436\n",
       "4           5.0          3.6           1.4          0.2  setosa  0.046654"
      ]
     },
     "execution_count": 24,
     "metadata": {},
     "output_type": "execute_result"
    }
   ],
   "source": [
    "df.head()"
   ]
  },
  {
   "cell_type": "code",
   "execution_count": 25,
   "metadata": {},
   "outputs": [
    {
     "data": {
      "text/html": [
       "<div>\n",
       "<style scoped>\n",
       "    .dataframe tbody tr th:only-of-type {\n",
       "        vertical-align: middle;\n",
       "    }\n",
       "\n",
       "    .dataframe tbody tr th {\n",
       "        vertical-align: top;\n",
       "    }\n",
       "\n",
       "    .dataframe thead th {\n",
       "        text-align: right;\n",
       "    }\n",
       "</style>\n",
       "<table border=\"1\" class=\"dataframe\">\n",
       "  <thead>\n",
       "    <tr style=\"text-align: right;\">\n",
       "      <th></th>\n",
       "      <th>sepal_length</th>\n",
       "      <th>sepal_width</th>\n",
       "      <th>petal_length</th>\n",
       "      <th>petal_width</th>\n",
       "      <th>cls</th>\n",
       "    </tr>\n",
       "    <tr>\n",
       "      <th>species</th>\n",
       "      <th></th>\n",
       "      <th></th>\n",
       "      <th></th>\n",
       "      <th></th>\n",
       "      <th></th>\n",
       "    </tr>\n",
       "  </thead>\n",
       "  <tbody>\n",
       "    <tr>\n",
       "      <th>setosa</th>\n",
       "      <td>5.006</td>\n",
       "      <td>3.428</td>\n",
       "      <td>1.462</td>\n",
       "      <td>0.246</td>\n",
       "      <td>0.056892</td>\n",
       "    </tr>\n",
       "    <tr>\n",
       "      <th>versicolor</th>\n",
       "      <td>5.936</td>\n",
       "      <td>2.770</td>\n",
       "      <td>4.260</td>\n",
       "      <td>1.326</td>\n",
       "      <td>0.358990</td>\n",
       "    </tr>\n",
       "    <tr>\n",
       "      <th>virginica</th>\n",
       "      <td>6.588</td>\n",
       "      <td>2.974</td>\n",
       "      <td>5.552</td>\n",
       "      <td>2.026</td>\n",
       "      <td>0.508146</td>\n",
       "    </tr>\n",
       "  </tbody>\n",
       "</table>\n",
       "</div>"
      ],
      "text/plain": [
       "            sepal_length  sepal_width  petal_length  petal_width       cls\n",
       "species                                                                   \n",
       "setosa             5.006        3.428         1.462        0.246  0.056892\n",
       "versicolor         5.936        2.770         4.260        1.326  0.358990\n",
       "virginica          6.588        2.974         5.552        2.026  0.508146"
      ]
     },
     "execution_count": 25,
     "metadata": {},
     "output_type": "execute_result"
    }
   ],
   "source": [
    "df.groupby('species').mean()"
   ]
  },
  {
   "cell_type": "code",
   "execution_count": 26,
   "metadata": {},
   "outputs": [
    {
     "data": {
      "text/html": [
       "<div>\n",
       "<style scoped>\n",
       "    .dataframe tbody tr th:only-of-type {\n",
       "        vertical-align: middle;\n",
       "    }\n",
       "\n",
       "    .dataframe tbody tr th {\n",
       "        vertical-align: top;\n",
       "    }\n",
       "\n",
       "    .dataframe thead th {\n",
       "        text-align: right;\n",
       "    }\n",
       "</style>\n",
       "<table border=\"1\" class=\"dataframe\">\n",
       "  <thead>\n",
       "    <tr style=\"text-align: right;\">\n",
       "      <th></th>\n",
       "      <th>sepal_length</th>\n",
       "      <th>sepal_width</th>\n",
       "      <th>petal_length</th>\n",
       "      <th>petal_width</th>\n",
       "      <th>species</th>\n",
       "      <th>cls</th>\n",
       "    </tr>\n",
       "  </thead>\n",
       "  <tbody>\n",
       "    <tr>\n",
       "      <th>90</th>\n",
       "      <td>5.5</td>\n",
       "      <td>2.6</td>\n",
       "      <td>4.4</td>\n",
       "      <td>1.2</td>\n",
       "      <td>versicolor</td>\n",
       "      <td>0.338837</td>\n",
       "    </tr>\n",
       "    <tr>\n",
       "      <th>91</th>\n",
       "      <td>6.1</td>\n",
       "      <td>3.0</td>\n",
       "      <td>4.6</td>\n",
       "      <td>1.4</td>\n",
       "      <td>versicolor</td>\n",
       "      <td>0.383173</td>\n",
       "    </tr>\n",
       "    <tr>\n",
       "      <th>92</th>\n",
       "      <td>5.8</td>\n",
       "      <td>2.6</td>\n",
       "      <td>4.0</td>\n",
       "      <td>1.2</td>\n",
       "      <td>versicolor</td>\n",
       "      <td>0.337256</td>\n",
       "    </tr>\n",
       "    <tr>\n",
       "      <th>93</th>\n",
       "      <td>5.0</td>\n",
       "      <td>2.3</td>\n",
       "      <td>3.3</td>\n",
       "      <td>1.0</td>\n",
       "      <td>versicolor</td>\n",
       "      <td>0.282937</td>\n",
       "    </tr>\n",
       "    <tr>\n",
       "      <th>94</th>\n",
       "      <td>5.6</td>\n",
       "      <td>2.7</td>\n",
       "      <td>4.2</td>\n",
       "      <td>1.3</td>\n",
       "      <td>versicolor</td>\n",
       "      <td>0.341252</td>\n",
       "    </tr>\n",
       "    <tr>\n",
       "      <th>95</th>\n",
       "      <td>5.7</td>\n",
       "      <td>3.0</td>\n",
       "      <td>4.2</td>\n",
       "      <td>1.2</td>\n",
       "      <td>versicolor</td>\n",
       "      <td>0.346670</td>\n",
       "    </tr>\n",
       "    <tr>\n",
       "      <th>96</th>\n",
       "      <td>5.7</td>\n",
       "      <td>2.9</td>\n",
       "      <td>4.2</td>\n",
       "      <td>1.3</td>\n",
       "      <td>versicolor</td>\n",
       "      <td>0.350336</td>\n",
       "    </tr>\n",
       "    <tr>\n",
       "      <th>97</th>\n",
       "      <td>6.2</td>\n",
       "      <td>2.9</td>\n",
       "      <td>4.3</td>\n",
       "      <td>1.3</td>\n",
       "      <td>versicolor</td>\n",
       "      <td>0.368626</td>\n",
       "    </tr>\n",
       "    <tr>\n",
       "      <th>98</th>\n",
       "      <td>5.1</td>\n",
       "      <td>2.5</td>\n",
       "      <td>3.0</td>\n",
       "      <td>1.1</td>\n",
       "      <td>versicolor</td>\n",
       "      <td>0.277104</td>\n",
       "    </tr>\n",
       "    <tr>\n",
       "      <th>99</th>\n",
       "      <td>5.7</td>\n",
       "      <td>2.8</td>\n",
       "      <td>4.1</td>\n",
       "      <td>1.3</td>\n",
       "      <td>versicolor</td>\n",
       "      <td>0.344637</td>\n",
       "    </tr>\n",
       "    <tr>\n",
       "      <th>100</th>\n",
       "      <td>6.3</td>\n",
       "      <td>3.3</td>\n",
       "      <td>6.0</td>\n",
       "      <td>2.5</td>\n",
       "      <td>virginica</td>\n",
       "      <td>0.534835</td>\n",
       "    </tr>\n",
       "    <tr>\n",
       "      <th>101</th>\n",
       "      <td>5.8</td>\n",
       "      <td>2.7</td>\n",
       "      <td>5.1</td>\n",
       "      <td>1.9</td>\n",
       "      <td>virginica</td>\n",
       "      <td>0.397121</td>\n",
       "    </tr>\n",
       "    <tr>\n",
       "      <th>102</th>\n",
       "      <td>7.1</td>\n",
       "      <td>3.0</td>\n",
       "      <td>5.9</td>\n",
       "      <td>2.1</td>\n",
       "      <td>virginica</td>\n",
       "      <td>0.585842</td>\n",
       "    </tr>\n",
       "    <tr>\n",
       "      <th>103</th>\n",
       "      <td>6.3</td>\n",
       "      <td>2.9</td>\n",
       "      <td>5.6</td>\n",
       "      <td>1.8</td>\n",
       "      <td>virginica</td>\n",
       "      <td>0.460979</td>\n",
       "    </tr>\n",
       "    <tr>\n",
       "      <th>104</th>\n",
       "      <td>6.5</td>\n",
       "      <td>3.0</td>\n",
       "      <td>5.8</td>\n",
       "      <td>2.2</td>\n",
       "      <td>virginica</td>\n",
       "      <td>0.515593</td>\n",
       "    </tr>\n",
       "    <tr>\n",
       "      <th>105</th>\n",
       "      <td>7.6</td>\n",
       "      <td>3.0</td>\n",
       "      <td>6.6</td>\n",
       "      <td>2.1</td>\n",
       "      <td>virginica</td>\n",
       "      <td>0.744849</td>\n",
       "    </tr>\n",
       "    <tr>\n",
       "      <th>106</th>\n",
       "      <td>4.9</td>\n",
       "      <td>2.5</td>\n",
       "      <td>4.5</td>\n",
       "      <td>1.7</td>\n",
       "      <td>virginica</td>\n",
       "      <td>0.339401</td>\n",
       "    </tr>\n",
       "    <tr>\n",
       "      <th>107</th>\n",
       "      <td>7.3</td>\n",
       "      <td>2.9</td>\n",
       "      <td>6.3</td>\n",
       "      <td>1.8</td>\n",
       "      <td>virginica</td>\n",
       "      <td>0.650159</td>\n",
       "    </tr>\n",
       "    <tr>\n",
       "      <th>108</th>\n",
       "      <td>6.7</td>\n",
       "      <td>2.5</td>\n",
       "      <td>5.8</td>\n",
       "      <td>1.8</td>\n",
       "      <td>virginica</td>\n",
       "      <td>0.508755</td>\n",
       "    </tr>\n",
       "    <tr>\n",
       "      <th>109</th>\n",
       "      <td>7.2</td>\n",
       "      <td>3.6</td>\n",
       "      <td>6.1</td>\n",
       "      <td>2.5</td>\n",
       "      <td>virginica</td>\n",
       "      <td>0.637832</td>\n",
       "    </tr>\n",
       "  </tbody>\n",
       "</table>\n",
       "</div>"
      ],
      "text/plain": [
       "     sepal_length  sepal_width  petal_length  petal_width     species  \\\n",
       "90            5.5          2.6           4.4          1.2  versicolor   \n",
       "91            6.1          3.0           4.6          1.4  versicolor   \n",
       "92            5.8          2.6           4.0          1.2  versicolor   \n",
       "93            5.0          2.3           3.3          1.0  versicolor   \n",
       "94            5.6          2.7           4.2          1.3  versicolor   \n",
       "95            5.7          3.0           4.2          1.2  versicolor   \n",
       "96            5.7          2.9           4.2          1.3  versicolor   \n",
       "97            6.2          2.9           4.3          1.3  versicolor   \n",
       "98            5.1          2.5           3.0          1.1  versicolor   \n",
       "99            5.7          2.8           4.1          1.3  versicolor   \n",
       "100           6.3          3.3           6.0          2.5   virginica   \n",
       "101           5.8          2.7           5.1          1.9   virginica   \n",
       "102           7.1          3.0           5.9          2.1   virginica   \n",
       "103           6.3          2.9           5.6          1.8   virginica   \n",
       "104           6.5          3.0           5.8          2.2   virginica   \n",
       "105           7.6          3.0           6.6          2.1   virginica   \n",
       "106           4.9          2.5           4.5          1.7   virginica   \n",
       "107           7.3          2.9           6.3          1.8   virginica   \n",
       "108           6.7          2.5           5.8          1.8   virginica   \n",
       "109           7.2          3.6           6.1          2.5   virginica   \n",
       "\n",
       "          cls  \n",
       "90   0.338837  \n",
       "91   0.383173  \n",
       "92   0.337256  \n",
       "93   0.282937  \n",
       "94   0.341252  \n",
       "95   0.346670  \n",
       "96   0.350336  \n",
       "97   0.368626  \n",
       "98   0.277104  \n",
       "99   0.344637  \n",
       "100  0.534835  \n",
       "101  0.397121  \n",
       "102  0.585842  \n",
       "103  0.460979  \n",
       "104  0.515593  \n",
       "105  0.744849  \n",
       "106  0.339401  \n",
       "107  0.650159  \n",
       "108  0.508755  \n",
       "109  0.637832  "
      ]
     },
     "execution_count": 26,
     "metadata": {},
     "output_type": "execute_result"
    }
   ],
   "source": [
    "df.iloc[90:110]"
   ]
  },
  {
   "cell_type": "code",
   "execution_count": 27,
   "metadata": {},
   "outputs": [],
   "source": [
    "################################################################\n",
    "# calculate mse of predictions (output of the NN) vs. X for:\n",
    "# (2,1,2)\n",
    "# (5,1,5)\n",
    "# (10,1,10)\n",
    "# (15,1,15)\n",
    "# (20,1,20)\n",
    "# (25,1,25)"
   ]
  },
  {
   "cell_type": "code",
   "execution_count": 28,
   "metadata": {},
   "outputs": [
    {
     "data": {
      "text/html": [
       "<div>\n",
       "<style scoped>\n",
       "    .dataframe tbody tr th:only-of-type {\n",
       "        vertical-align: middle;\n",
       "    }\n",
       "\n",
       "    .dataframe tbody tr th {\n",
       "        vertical-align: top;\n",
       "    }\n",
       "\n",
       "    .dataframe thead th {\n",
       "        text-align: right;\n",
       "    }\n",
       "</style>\n",
       "<table border=\"1\" class=\"dataframe\">\n",
       "  <thead>\n",
       "    <tr style=\"text-align: right;\">\n",
       "      <th></th>\n",
       "      <th>sepal_length</th>\n",
       "      <th>sepal_width</th>\n",
       "      <th>petal_length</th>\n",
       "      <th>petal_width</th>\n",
       "      <th>B</th>\n",
       "    </tr>\n",
       "  </thead>\n",
       "  <tbody>\n",
       "    <tr>\n",
       "      <th>0</th>\n",
       "      <td>5.1</td>\n",
       "      <td>3.5</td>\n",
       "      <td>1.4</td>\n",
       "      <td>0.2</td>\n",
       "      <td>1</td>\n",
       "    </tr>\n",
       "    <tr>\n",
       "      <th>1</th>\n",
       "      <td>4.9</td>\n",
       "      <td>3.0</td>\n",
       "      <td>1.4</td>\n",
       "      <td>0.2</td>\n",
       "      <td>1</td>\n",
       "    </tr>\n",
       "    <tr>\n",
       "      <th>2</th>\n",
       "      <td>4.7</td>\n",
       "      <td>3.2</td>\n",
       "      <td>1.3</td>\n",
       "      <td>0.2</td>\n",
       "      <td>1</td>\n",
       "    </tr>\n",
       "    <tr>\n",
       "      <th>3</th>\n",
       "      <td>4.6</td>\n",
       "      <td>3.1</td>\n",
       "      <td>1.5</td>\n",
       "      <td>0.2</td>\n",
       "      <td>1</td>\n",
       "    </tr>\n",
       "    <tr>\n",
       "      <th>4</th>\n",
       "      <td>5.0</td>\n",
       "      <td>3.6</td>\n",
       "      <td>1.4</td>\n",
       "      <td>0.2</td>\n",
       "      <td>1</td>\n",
       "    </tr>\n",
       "    <tr>\n",
       "      <th>...</th>\n",
       "      <td>...</td>\n",
       "      <td>...</td>\n",
       "      <td>...</td>\n",
       "      <td>...</td>\n",
       "      <td>...</td>\n",
       "    </tr>\n",
       "    <tr>\n",
       "      <th>145</th>\n",
       "      <td>6.7</td>\n",
       "      <td>3.0</td>\n",
       "      <td>5.2</td>\n",
       "      <td>2.3</td>\n",
       "      <td>1</td>\n",
       "    </tr>\n",
       "    <tr>\n",
       "      <th>146</th>\n",
       "      <td>6.3</td>\n",
       "      <td>2.5</td>\n",
       "      <td>5.0</td>\n",
       "      <td>1.9</td>\n",
       "      <td>1</td>\n",
       "    </tr>\n",
       "    <tr>\n",
       "      <th>147</th>\n",
       "      <td>6.5</td>\n",
       "      <td>3.0</td>\n",
       "      <td>5.2</td>\n",
       "      <td>2.0</td>\n",
       "      <td>1</td>\n",
       "    </tr>\n",
       "    <tr>\n",
       "      <th>148</th>\n",
       "      <td>6.2</td>\n",
       "      <td>3.4</td>\n",
       "      <td>5.4</td>\n",
       "      <td>2.3</td>\n",
       "      <td>1</td>\n",
       "    </tr>\n",
       "    <tr>\n",
       "      <th>149</th>\n",
       "      <td>5.9</td>\n",
       "      <td>3.0</td>\n",
       "      <td>5.1</td>\n",
       "      <td>1.8</td>\n",
       "      <td>1</td>\n",
       "    </tr>\n",
       "  </tbody>\n",
       "</table>\n",
       "<p>150 rows × 5 columns</p>\n",
       "</div>"
      ],
      "text/plain": [
       "     sepal_length  sepal_width  petal_length  petal_width  B\n",
       "0             5.1          3.5           1.4          0.2  1\n",
       "1             4.9          3.0           1.4          0.2  1\n",
       "2             4.7          3.2           1.3          0.2  1\n",
       "3             4.6          3.1           1.5          0.2  1\n",
       "4             5.0          3.6           1.4          0.2  1\n",
       "..            ...          ...           ...          ... ..\n",
       "145           6.7          3.0           5.2          2.3  1\n",
       "146           6.3          2.5           5.0          1.9  1\n",
       "147           6.5          3.0           5.2          2.0  1\n",
       "148           6.2          3.4           5.4          2.3  1\n",
       "149           5.9          3.0           5.1          1.8  1\n",
       "\n",
       "[150 rows x 5 columns]"
      ]
     },
     "execution_count": 28,
     "metadata": {},
     "output_type": "execute_result"
    }
   ],
   "source": [
    "X"
   ]
  },
  {
   "cell_type": "code",
   "execution_count": 29,
   "metadata": {},
   "outputs": [
    {
     "data": {
      "text/plain": [
       "array([[5.1, 3.5, 1.4, 0.2],\n",
       "       [4.9, 3. , 1.4, 0.2],\n",
       "       [4.7, 3.2, 1.3, 0.2]])"
      ]
     },
     "execution_count": 29,
     "metadata": {},
     "output_type": "execute_result"
    }
   ],
   "source": [
    "import numpy as np\n",
    "X_ = X.iloc[:, :4].values\n",
    "X_[:3]"
   ]
  },
  {
   "cell_type": "code",
   "execution_count": 30,
   "metadata": {},
   "outputs": [
    {
     "data": {
      "text/plain": [
       "array([[5.09380016, 3.54710521, 1.45595706, 0.2490054 ],\n",
       "       [4.73999638, 3.07618225, 1.44303085, 0.17833639],\n",
       "       [4.8038786 , 3.16422415, 1.44059487, 0.18934358]])"
      ]
     },
     "execution_count": 30,
     "metadata": {},
     "output_type": "execute_result"
    }
   ],
   "source": [
    "pred_ = predictions[:, :4]\n",
    "pred_[:3]"
   ]
  },
  {
   "cell_type": "code",
   "execution_count": 31,
   "metadata": {},
   "outputs": [
    {
     "data": {
      "text/plain": [
       "array([[ 0.00619984, -0.04710521, -0.05595706, -0.0490054 ],\n",
       "       [ 0.16000362, -0.07618225, -0.04303085,  0.02166361],\n",
       "       [-0.1038786 ,  0.03577585, -0.14059487,  0.01065642]])"
      ]
     },
     "execution_count": 31,
     "metadata": {},
     "output_type": "execute_result"
    }
   ],
   "source": [
    "d_ = (X_ - pred_)\n",
    "d_[:3]"
   ]
  },
  {
   "cell_type": "code",
   "execution_count": 32,
   "metadata": {},
   "outputs": [
    {
     "data": {
      "text/plain": [
       "array([[3.84380126e-05, 2.21890107e-03, 3.13119274e-03, 2.40152889e-03],\n",
       "       [2.56011571e-02, 5.80373454e-03, 1.85165411e-03, 4.69311804e-04],\n",
       "       [1.07907626e-02, 1.27991158e-03, 1.97669167e-02, 1.13559353e-04]])"
      ]
     },
     "execution_count": 32,
     "metadata": {},
     "output_type": "execute_result"
    }
   ],
   "source": [
    "d_ = d_**2\n",
    "d_[:3]"
   ]
  },
  {
   "cell_type": "code",
   "execution_count": 33,
   "metadata": {},
   "outputs": [
    {
     "data": {
      "text/plain": [
       "array([0.00194752, 0.00843146, 0.00798779, 0.00500634])"
      ]
     },
     "execution_count": 33,
     "metadata": {},
     "output_type": "execute_result"
    }
   ],
   "source": [
    "m_ = np.mean(d_, axis=1)\n",
    "m_[:4]"
   ]
  },
  {
   "cell_type": "code",
   "execution_count": 34,
   "metadata": {},
   "outputs": [
    {
     "data": {
      "text/plain": [
       "0.04353270138528518"
      ]
     },
     "execution_count": 34,
     "metadata": {},
     "output_type": "execute_result"
    }
   ],
   "source": [
    "err_ = np.mean(m_)\n",
    "err_"
   ]
  },
  {
   "cell_type": "code",
   "execution_count": 35,
   "metadata": {},
   "outputs": [
    {
     "name": "stdout",
     "output_type": "stream",
     "text": [
      "Mean-Square Error (MSE): 0.2066\n"
     ]
    }
   ],
   "source": [
    "mlp1 = MLPRegressor(solver='lbfgs',activation='logistic',learning_rate_init=0.00001, alpha=1e-5, \n",
    "                   hidden_layer_sizes=(2,1,2),max_iter=1000000,random_state=111)\n",
    "mlp1.fit(X,X)\n",
    "pred1 = mlp1.predict(X)\n",
    "import numpy as np\n",
    "from sklearn.metrics import mean_squared_error\n",
    "lin_mse1 = mean_squared_error(pred1, X)\n",
    "print('Mean-Square Error (MSE): %.4f' % lin_mse1)"
   ]
  },
  {
   "cell_type": "code",
   "execution_count": 36,
   "metadata": {},
   "outputs": [
    {
     "name": "stdout",
     "output_type": "stream",
     "text": [
      "Mean-Square Error (MSE): 0.0348\n"
     ]
    }
   ],
   "source": [
    "mlp2 = MLPRegressor(solver='lbfgs',activation='logistic',learning_rate_init=0.00001, alpha=1e-5, \n",
    "                   hidden_layer_sizes=(5,1,5),max_iter=1000000,random_state=111)\n",
    "mlp2.fit(X,X)\n",
    "pred2 = mlp2.predict(X)\n",
    "import numpy as np\n",
    "from sklearn.metrics import mean_squared_error\n",
    "lin_mse2 = mean_squared_error(pred2, X)\n",
    "print('Mean-Square Error (MSE): %.4f' % lin_mse2)"
   ]
  },
  {
   "cell_type": "code",
   "execution_count": 37,
   "metadata": {},
   "outputs": [
    {
     "name": "stdout",
     "output_type": "stream",
     "text": [
      "Mean-Square Error (MSE): 0.0510\n"
     ]
    }
   ],
   "source": [
    "mlp3 = MLPRegressor(solver='lbfgs',activation='logistic',learning_rate_init=0.00001, alpha=1e-5, \n",
    "                   hidden_layer_sizes=(10,1,10),max_iter=1000000,random_state=111)\n",
    "mlp3.fit(X,X)\n",
    "pred3 = mlp3.predict(X)\n",
    "import numpy as np\n",
    "from sklearn.metrics import mean_squared_error\n",
    "lin_mse3 = mean_squared_error(pred3, X)\n",
    "print('Mean-Square Error (MSE): %.4f' % lin_mse3)"
   ]
  },
  {
   "cell_type": "code",
   "execution_count": 38,
   "metadata": {},
   "outputs": [
    {
     "name": "stdout",
     "output_type": "stream",
     "text": [
      "Mean-Square Error (MSE): 0.0345\n"
     ]
    }
   ],
   "source": [
    "mlp4 = MLPRegressor(solver='lbfgs',activation='logistic',learning_rate_init=0.00001, alpha=1e-5, \n",
    "                   hidden_layer_sizes=(15,1,15),max_iter=1000000,random_state=111)\n",
    "mlp4.fit(X,X)\n",
    "pred4 = mlp4.predict(X)\n",
    "import numpy as np\n",
    "from sklearn.metrics import mean_squared_error\n",
    "lin_mse4 = mean_squared_error(pred4, X)\n",
    "print('Mean-Square Error (MSE): %.4f' % lin_mse4)"
   ]
  },
  {
   "cell_type": "code",
   "execution_count": 39,
   "metadata": {},
   "outputs": [
    {
     "name": "stdout",
     "output_type": "stream",
     "text": [
      "Mean-Square Error (MSE): 0.0511\n"
     ]
    }
   ],
   "source": [
    "mlp5 = MLPRegressor(solver='lbfgs',activation='logistic',learning_rate_init=0.00001, alpha=1e-5, \n",
    "                   hidden_layer_sizes=(20,1,20),max_iter=1000000,random_state=111)\n",
    "mlp5.fit(X,X)\n",
    "pred5 = mlp5.predict(X)\n",
    "import numpy as np\n",
    "from sklearn.metrics import mean_squared_error\n",
    "lin_mse5 = mean_squared_error(pred5, X)\n",
    "print('Mean-Square Error (MSE): %.4f' % lin_mse5)"
   ]
  },
  {
   "cell_type": "code",
   "execution_count": 40,
   "metadata": {},
   "outputs": [
    {
     "name": "stdout",
     "output_type": "stream",
     "text": [
      "Mean-Square Error (MSE): 0.0508\n"
     ]
    }
   ],
   "source": [
    "mlp6 = MLPRegressor(solver='lbfgs',activation='logistic',learning_rate_init=0.00001, alpha=1e-5, \n",
    "                   hidden_layer_sizes=(25,1,25),max_iter=1000000,random_state=111)\n",
    "mlp6.fit(X,X)\n",
    "pred6 = mlp6.predict(X)\n",
    "import numpy as np\n",
    "from sklearn.metrics import mean_squared_error\n",
    "lin_mse6 = mean_squared_error(pred6, X)\n",
    "print('Mean-Square Error (MSE): %.4f' % lin_mse6)"
   ]
  },
  {
   "cell_type": "code",
   "execution_count": 41,
   "metadata": {},
   "outputs": [],
   "source": [
    "#########################################\n",
    "# feature reduction (4->1)\n",
    "# print confusion matrix and accuracy score using 4 feature (original and using 1 feature (cls)).\n",
    "#      split to 33% test, seed = 47\n",
    "#      use RF() and LogReg()\n",
    "#      try for all the five NN architectures"
   ]
  },
  {
   "cell_type": "markdown",
   "metadata": {},
   "source": [
    "## 1. LogReg() and RF() using 4 features"
   ]
  },
  {
   "cell_type": "code",
   "execution_count": 42,
   "metadata": {},
   "outputs": [],
   "source": [
    "X2 = df.loc[:, df.columns != 'species']\n",
    "y = df.loc[:, df.columns == 'species']"
   ]
  },
  {
   "cell_type": "code",
   "execution_count": 43,
   "metadata": {},
   "outputs": [
    {
     "data": {
      "text/plain": [
       "pandas.core.frame.DataFrame"
      ]
     },
     "execution_count": 43,
     "metadata": {},
     "output_type": "execute_result"
    }
   ],
   "source": [
    "type(X2)"
   ]
  },
  {
   "cell_type": "code",
   "execution_count": 44,
   "metadata": {},
   "outputs": [
    {
     "data": {
      "text/plain": [
       "pandas.core.frame.DataFrame"
      ]
     },
     "execution_count": 44,
     "metadata": {},
     "output_type": "execute_result"
    }
   ],
   "source": [
    "type(y)"
   ]
  },
  {
   "cell_type": "code",
   "execution_count": 45,
   "metadata": {},
   "outputs": [],
   "source": [
    "y=np.where(y =='setosa', 0, y)\n",
    "y=np.where(y =='versicolor', 1, y)\n",
    "y=np.where(y =='virginica', 2, y)"
   ]
  },
  {
   "cell_type": "code",
   "execution_count": 46,
   "metadata": {},
   "outputs": [],
   "source": [
    "y = pd.DataFrame(y)\n",
    "y = y.astype('int')"
   ]
  },
  {
   "cell_type": "code",
   "execution_count": 47,
   "metadata": {},
   "outputs": [],
   "source": [
    "from sklearn.linear_model import LogisticRegression\n",
    "from sklearn import metrics\n",
    "from sklearn.metrics import confusion_matrix\n",
    "from sklearn.ensemble import RandomForestClassifier"
   ]
  },
  {
   "cell_type": "code",
   "execution_count": 48,
   "metadata": {},
   "outputs": [
    {
     "name": "stdout",
     "output_type": "stream",
     "text": [
      "Accuracy of Logistic Regression classifier on test set y_log_4: 0.9800\n",
      "[[20  0  0]\n",
      " [ 0  9  0]\n",
      " [ 0  1 20]]\n",
      "Accuracy of Random Forest classifier on test set y_gb_4: 0.9600\n",
      "[[20  0  0]\n",
      " [ 0  9  0]\n",
      " [ 0  2 19]]\n"
     ]
    },
    {
     "name": "stderr",
     "output_type": "stream",
     "text": [
      "C:\\ProgramData\\Anaconda3\\lib\\site-packages\\sklearn\\utils\\validation.py:72: DataConversionWarning: A column-vector y was passed when a 1d array was expected. Please change the shape of y to (n_samples, ), for example using ravel().\n",
      "  return f(**kwargs)\n",
      "C:\\ProgramData\\Anaconda3\\lib\\site-packages\\ipykernel_launcher.py:11: DataConversionWarning: A column-vector y was passed when a 1d array was expected. Please change the shape of y to (n_samples,), for example using ravel().\n",
      "  # This is added back by InteractiveShellApp.init_path()\n"
     ]
    }
   ],
   "source": [
    "from sklearn.model_selection import train_test_split\n",
    "X_train, X_test, y_train, y_test = train_test_split(X2, y, test_size=0.33, random_state=47)\n",
    "logreg = LogisticRegression(random_state=47)\n",
    "logreg.fit(X_train, y_train)\n",
    "y_log_4 = logreg.predict(X_test)\n",
    "acc_log_4 = logreg.score(X_test, y_test)\n",
    "print('Accuracy of Logistic Regression classifier on test set y_log_4: {:.4f}'.format(acc_log_4))\n",
    "confusion_matrix1 = confusion_matrix(y_test, y_log_4)\n",
    "print(confusion_matrix1)\n",
    "rf = RandomForestClassifier(random_state=47)\n",
    "rf.fit(X_train, y_train)\n",
    "y_rf_4 = rf.predict(X_test)\n",
    "acc_rf_4 = rf.score(X_test, y_test)\n",
    "print('Accuracy of Random Forest classifier on test set y_gb_4: {:.4f}'.format(acc_rf_4))\n",
    "confusion_matrix2 = confusion_matrix(y_test, y_rf_4)\n",
    "print(confusion_matrix2)"
   ]
  },
  {
   "cell_type": "markdown",
   "metadata": {},
   "source": [
    "## 2. LogReg() and RF() using 1 feature (cls) (2,1,2)"
   ]
  },
  {
   "cell_type": "code",
   "execution_count": 49,
   "metadata": {},
   "outputs": [],
   "source": [
    "X3 = df.drop(['species'],axis=1)\n",
    "X3['B']=1"
   ]
  },
  {
   "cell_type": "code",
   "execution_count": 50,
   "metadata": {},
   "outputs": [],
   "source": [
    "X3['cls1']=0\n",
    "for k,v in X2.iterrows():\n",
    "    X3.loc[k,'cls1'] = encode(mlp1,np.array([v.sepal_length , v.sepal_width,v.petal_length,v.petal_width,1]))\n",
    "X3['cls2']=0\n",
    "for k,v in X2.iterrows():\n",
    "    X3.loc[k,'cls2'] = encode(mlp2,np.array([v.sepal_length , v.sepal_width,v.petal_length,v.petal_width,1]))\n",
    "X3['cls3']=0\n",
    "for k,v in X2.iterrows():\n",
    "    X3.loc[k,'cls3'] = encode(mlp3,np.array([v.sepal_length , v.sepal_width,v.petal_length,v.petal_width,1]))\n",
    "X3['cls4']=0\n",
    "for k,v in X2.iterrows():\n",
    "    X3.loc[k,'cls4'] = encode(mlp4,np.array([v.sepal_length , v.sepal_width,v.petal_length,v.petal_width,1]))\n",
    "X3['cls5']=0\n",
    "for k,v in X2.iterrows():\n",
    "    X3.loc[k,'cls5'] = encode(mlp5,np.array([v.sepal_length , v.sepal_width,v.petal_length,v.petal_width,1]))\n",
    "X3['cls6']=0\n",
    "for k,v in X2.iterrows():\n",
    "    X3.loc[k,'cls6'] = encode(mlp6,np.array([v.sepal_length , v.sepal_width,v.petal_length,v.petal_width,1]))"
   ]
  },
  {
   "cell_type": "code",
   "execution_count": 51,
   "metadata": {},
   "outputs": [
    {
     "data": {
      "text/html": [
       "<div>\n",
       "<style scoped>\n",
       "    .dataframe tbody tr th:only-of-type {\n",
       "        vertical-align: middle;\n",
       "    }\n",
       "\n",
       "    .dataframe tbody tr th {\n",
       "        vertical-align: top;\n",
       "    }\n",
       "\n",
       "    .dataframe thead th {\n",
       "        text-align: right;\n",
       "    }\n",
       "</style>\n",
       "<table border=\"1\" class=\"dataframe\">\n",
       "  <thead>\n",
       "    <tr style=\"text-align: right;\">\n",
       "      <th></th>\n",
       "      <th>sepal_length</th>\n",
       "      <th>sepal_width</th>\n",
       "      <th>petal_length</th>\n",
       "      <th>petal_width</th>\n",
       "      <th>cls</th>\n",
       "      <th>B</th>\n",
       "      <th>cls1</th>\n",
       "      <th>cls2</th>\n",
       "      <th>cls3</th>\n",
       "      <th>cls4</th>\n",
       "      <th>cls5</th>\n",
       "      <th>cls6</th>\n",
       "    </tr>\n",
       "  </thead>\n",
       "  <tbody>\n",
       "    <tr>\n",
       "      <th>0</th>\n",
       "      <td>5.1</td>\n",
       "      <td>3.5</td>\n",
       "      <td>1.4</td>\n",
       "      <td>0.2</td>\n",
       "      <td>0.048335</td>\n",
       "      <td>1</td>\n",
       "      <td>0.000021</td>\n",
       "      <td>0.048335</td>\n",
       "      <td>6.293450e-09</td>\n",
       "      <td>0.080788</td>\n",
       "      <td>0.006858</td>\n",
       "      <td>9.440770e-34</td>\n",
       "    </tr>\n",
       "    <tr>\n",
       "      <th>1</th>\n",
       "      <td>4.9</td>\n",
       "      <td>3.0</td>\n",
       "      <td>1.4</td>\n",
       "      <td>0.2</td>\n",
       "      <td>0.077885</td>\n",
       "      <td>1</td>\n",
       "      <td>0.000021</td>\n",
       "      <td>0.077885</td>\n",
       "      <td>6.325430e-09</td>\n",
       "      <td>0.107492</td>\n",
       "      <td>0.017227</td>\n",
       "      <td>2.073627e-33</td>\n",
       "    </tr>\n",
       "    <tr>\n",
       "      <th>2</th>\n",
       "      <td>4.7</td>\n",
       "      <td>3.2</td>\n",
       "      <td>1.3</td>\n",
       "      <td>0.2</td>\n",
       "      <td>0.071790</td>\n",
       "      <td>1</td>\n",
       "      <td>0.000021</td>\n",
       "      <td>0.071790</td>\n",
       "      <td>5.875674e-09</td>\n",
       "      <td>0.106785</td>\n",
       "      <td>0.003707</td>\n",
       "      <td>7.082877e-34</td>\n",
       "    </tr>\n",
       "    <tr>\n",
       "      <th>3</th>\n",
       "      <td>4.6</td>\n",
       "      <td>3.1</td>\n",
       "      <td>1.5</td>\n",
       "      <td>0.2</td>\n",
       "      <td>0.081436</td>\n",
       "      <td>1</td>\n",
       "      <td>0.000021</td>\n",
       "      <td>0.081436</td>\n",
       "      <td>6.344351e-09</td>\n",
       "      <td>0.113787</td>\n",
       "      <td>0.015906</td>\n",
       "      <td>2.559366e-33</td>\n",
       "    </tr>\n",
       "    <tr>\n",
       "      <th>4</th>\n",
       "      <td>5.0</td>\n",
       "      <td>3.6</td>\n",
       "      <td>1.4</td>\n",
       "      <td>0.2</td>\n",
       "      <td>0.046654</td>\n",
       "      <td>1</td>\n",
       "      <td>0.000021</td>\n",
       "      <td>0.046654</td>\n",
       "      <td>6.195255e-09</td>\n",
       "      <td>0.081248</td>\n",
       "      <td>0.003641</td>\n",
       "      <td>6.977517e-34</td>\n",
       "    </tr>\n",
       "  </tbody>\n",
       "</table>\n",
       "</div>"
      ],
      "text/plain": [
       "   sepal_length  sepal_width  petal_length  petal_width       cls  B  \\\n",
       "0           5.1          3.5           1.4          0.2  0.048335  1   \n",
       "1           4.9          3.0           1.4          0.2  0.077885  1   \n",
       "2           4.7          3.2           1.3          0.2  0.071790  1   \n",
       "3           4.6          3.1           1.5          0.2  0.081436  1   \n",
       "4           5.0          3.6           1.4          0.2  0.046654  1   \n",
       "\n",
       "       cls1      cls2          cls3      cls4      cls5          cls6  \n",
       "0  0.000021  0.048335  6.293450e-09  0.080788  0.006858  9.440770e-34  \n",
       "1  0.000021  0.077885  6.325430e-09  0.107492  0.017227  2.073627e-33  \n",
       "2  0.000021  0.071790  5.875674e-09  0.106785  0.003707  7.082877e-34  \n",
       "3  0.000021  0.081436  6.344351e-09  0.113787  0.015906  2.559366e-33  \n",
       "4  0.000021  0.046654  6.195255e-09  0.081248  0.003641  6.977517e-34  "
      ]
     },
     "execution_count": 51,
     "metadata": {},
     "output_type": "execute_result"
    }
   ],
   "source": [
    "X3.head()"
   ]
  },
  {
   "cell_type": "code",
   "execution_count": 52,
   "metadata": {},
   "outputs": [
    {
     "name": "stdout",
     "output_type": "stream",
     "text": [
      "Accuracy of Logistic Regression classifier on test set y_log_11: 0.5800\n",
      "[[20  0  0]\n",
      " [ 0  9  0]\n",
      " [ 0 21  0]]\n",
      "Accuracy of Random Forest classifier on test set y_rf_11: 0.5800\n",
      "[[20  0  0]\n",
      " [ 0  9  0]\n",
      " [ 0 21  0]]\n"
     ]
    },
    {
     "name": "stderr",
     "output_type": "stream",
     "text": [
      "C:\\ProgramData\\Anaconda3\\lib\\site-packages\\sklearn\\utils\\validation.py:72: DataConversionWarning: A column-vector y was passed when a 1d array was expected. Please change the shape of y to (n_samples, ), for example using ravel().\n",
      "  return f(**kwargs)\n",
      "C:\\ProgramData\\Anaconda3\\lib\\site-packages\\ipykernel_launcher.py:11: DataConversionWarning: A column-vector y was passed when a 1d array was expected. Please change the shape of y to (n_samples,), for example using ravel().\n",
      "  # This is added back by InteractiveShellApp.init_path()\n"
     ]
    }
   ],
   "source": [
    "X4 = X3.loc[:, X3.columns == 'cls1']\n",
    "X_train, X_test, y_train, y_test = train_test_split(X4, y, test_size=0.33, random_state=47)\n",
    "logreg = LogisticRegression(random_state=47)\n",
    "logreg.fit(X_train, y_train)\n",
    "y_log_11 = logreg.predict(X_test)\n",
    "acc_log_11 = logreg.score(X_test, y_test)\n",
    "print('Accuracy of Logistic Regression classifier on test set y_log_11: {:.4f}'.format(acc_log_11))\n",
    "confusion_matrix1 = confusion_matrix(y_test, y_log_11)\n",
    "print(confusion_matrix1)\n",
    "rf = RandomForestClassifier(random_state=47)\n",
    "rf.fit(X_train, y_train)\n",
    "y_rf_11 = rf.predict(X_test)\n",
    "acc_rf_11 = rf.score(X_test, y_test)\n",
    "print('Accuracy of Random Forest classifier on test set y_rf_11: {:.4f}'.format(acc_rf_11))\n",
    "confusion_matrix2 = confusion_matrix(y_test, y_rf_11)\n",
    "print(confusion_matrix2)"
   ]
  },
  {
   "cell_type": "markdown",
   "metadata": {},
   "source": [
    "## 3. LogReg() and RF() using 1 feature (cls) (5,1,5)"
   ]
  },
  {
   "cell_type": "code",
   "execution_count": 53,
   "metadata": {},
   "outputs": [
    {
     "name": "stdout",
     "output_type": "stream",
     "text": [
      "Accuracy of Logistic Regression classifier on test set y_log_12: 0.7400\n",
      "[[20  0  0]\n",
      " [ 0  9  0]\n",
      " [ 0 13  8]]\n",
      "Accuracy of Random Forest classifier on test set y_rf_12: 0.9200\n",
      "[[20  0  0]\n",
      " [ 0  8  1]\n",
      " [ 0  3 18]]\n"
     ]
    },
    {
     "name": "stderr",
     "output_type": "stream",
     "text": [
      "C:\\ProgramData\\Anaconda3\\lib\\site-packages\\sklearn\\utils\\validation.py:72: DataConversionWarning: A column-vector y was passed when a 1d array was expected. Please change the shape of y to (n_samples, ), for example using ravel().\n",
      "  return f(**kwargs)\n",
      "C:\\ProgramData\\Anaconda3\\lib\\site-packages\\ipykernel_launcher.py:11: DataConversionWarning: A column-vector y was passed when a 1d array was expected. Please change the shape of y to (n_samples,), for example using ravel().\n",
      "  # This is added back by InteractiveShellApp.init_path()\n"
     ]
    }
   ],
   "source": [
    "X5 = X3.loc[:, X3.columns == 'cls2']\n",
    "X_train, X_test, y_train, y_test = train_test_split(X5, y, test_size=0.33, random_state=47)\n",
    "logreg = LogisticRegression(random_state=47)\n",
    "logreg.fit(X_train, y_train)\n",
    "y_log_12 = logreg.predict(X_test)\n",
    "acc_log_12 = logreg.score(X_test, y_test)\n",
    "print('Accuracy of Logistic Regression classifier on test set y_log_12: {:.4f}'.format(acc_log_12))\n",
    "confusion_matrix1 = confusion_matrix(y_test, y_log_12)\n",
    "print(confusion_matrix1)\n",
    "rf = RandomForestClassifier(random_state=47)\n",
    "rf.fit(X_train, y_train)\n",
    "y_rf_12 = rf.predict(X_test)\n",
    "acc_rf_12 = rf.score(X_test, y_test)\n",
    "print('Accuracy of Random Forest classifier on test set y_rf_12: {:.4f}'.format(acc_rf_12))\n",
    "confusion_matrix2 = confusion_matrix(y_test, y_rf_12)\n",
    "print(confusion_matrix2)"
   ]
  },
  {
   "cell_type": "markdown",
   "metadata": {},
   "source": [
    "## 4. LogReg() and RF() using 1 feature (cls) (10,1,10)"
   ]
  },
  {
   "cell_type": "code",
   "execution_count": 54,
   "metadata": {},
   "outputs": [
    {
     "name": "stderr",
     "output_type": "stream",
     "text": [
      "C:\\ProgramData\\Anaconda3\\lib\\site-packages\\sklearn\\utils\\validation.py:72: DataConversionWarning: A column-vector y was passed when a 1d array was expected. Please change the shape of y to (n_samples, ), for example using ravel().\n",
      "  return f(**kwargs)\n",
      "C:\\ProgramData\\Anaconda3\\lib\\site-packages\\ipykernel_launcher.py:11: DataConversionWarning: A column-vector y was passed when a 1d array was expected. Please change the shape of y to (n_samples,), for example using ravel().\n",
      "  # This is added back by InteractiveShellApp.init_path()\n"
     ]
    },
    {
     "name": "stdout",
     "output_type": "stream",
     "text": [
      "Accuracy of Logistic Regression classifier on test set y_log_13: 0.5800\n",
      "[[20  0  0]\n",
      " [ 0  9  0]\n",
      " [ 0 21  0]]\n",
      "Accuracy of Random Forest classifier on test set y_rf_13: 0.8800\n",
      "[[20  0  0]\n",
      " [ 0  7  2]\n",
      " [ 0  4 17]]\n"
     ]
    }
   ],
   "source": [
    "X6 = X3.loc[:, X3.columns == 'cls3']\n",
    "X_train, X_test, y_train, y_test = train_test_split(X6, y, test_size=0.33, random_state=47)\n",
    "logreg = LogisticRegression(random_state=47)\n",
    "logreg.fit(X_train, y_train)\n",
    "y_log_13 = logreg.predict(X_test)\n",
    "acc_log_13 = logreg.score(X_test, y_test)\n",
    "print('Accuracy of Logistic Regression classifier on test set y_log_13: {:.4f}'.format(acc_log_13))\n",
    "confusion_matrix1 = confusion_matrix(y_test, y_log_13)\n",
    "print(confusion_matrix1)\n",
    "rf = RandomForestClassifier(random_state=47)\n",
    "rf.fit(X_train, y_train)\n",
    "y_rf_13 = rf.predict(X_test)\n",
    "acc_rf_13 = rf.score(X_test, y_test)\n",
    "print('Accuracy of Random Forest classifier on test set y_rf_13: {:.4f}'.format(acc_rf_13))\n",
    "confusion_matrix2 = confusion_matrix(y_test, y_rf_13)\n",
    "print(confusion_matrix2)"
   ]
  },
  {
   "cell_type": "markdown",
   "metadata": {},
   "source": [
    "## 5. LogReg() and RF() using 1 feature (cls) (15,1,15)"
   ]
  },
  {
   "cell_type": "code",
   "execution_count": 55,
   "metadata": {},
   "outputs": [
    {
     "name": "stdout",
     "output_type": "stream",
     "text": [
      "Accuracy of Logistic Regression classifier on test set y_log_14: 0.5800\n",
      "[[20  0  0]\n",
      " [ 0  9  0]\n",
      " [ 0 21  0]]\n"
     ]
    },
    {
     "name": "stderr",
     "output_type": "stream",
     "text": [
      "C:\\ProgramData\\Anaconda3\\lib\\site-packages\\sklearn\\utils\\validation.py:72: DataConversionWarning: A column-vector y was passed when a 1d array was expected. Please change the shape of y to (n_samples, ), for example using ravel().\n",
      "  return f(**kwargs)\n",
      "C:\\ProgramData\\Anaconda3\\lib\\site-packages\\ipykernel_launcher.py:11: DataConversionWarning: A column-vector y was passed when a 1d array was expected. Please change the shape of y to (n_samples,), for example using ravel().\n",
      "  # This is added back by InteractiveShellApp.init_path()\n"
     ]
    },
    {
     "name": "stdout",
     "output_type": "stream",
     "text": [
      "Accuracy of Random Forest classifier on test set y_rf_14: 0.8600\n",
      "[[20  0  0]\n",
      " [ 0  6  3]\n",
      " [ 0  4 17]]\n"
     ]
    }
   ],
   "source": [
    "X7 = X3.loc[:, X3.columns == 'cls4']\n",
    "X_train, X_test, y_train, y_test = train_test_split(X7, y, test_size=0.33, random_state=47)\n",
    "logreg = LogisticRegression(random_state=47)\n",
    "logreg.fit(X_train, y_train)\n",
    "y_log_14 = logreg.predict(X_test)\n",
    "acc_log_14 = logreg.score(X_test, y_test)\n",
    "print('Accuracy of Logistic Regression classifier on test set y_log_14: {:.4f}'.format(acc_log_14))\n",
    "confusion_matrix1 = confusion_matrix(y_test, y_log_14)\n",
    "print(confusion_matrix1)\n",
    "rf = RandomForestClassifier(random_state=47)\n",
    "rf.fit(X_train, y_train)\n",
    "y_rf_14 = rf.predict(X_test)\n",
    "acc_rf_14 = rf.score(X_test, y_test)\n",
    "print('Accuracy of Random Forest classifier on test set y_rf_14: {:.4f}'.format(acc_rf_14))\n",
    "confusion_matrix2 = confusion_matrix(y_test, y_rf_14)\n",
    "print(confusion_matrix2)"
   ]
  },
  {
   "cell_type": "markdown",
   "metadata": {},
   "source": [
    "## 6. LogReg() and RF() using 1 feature (cls) (20,1,20)"
   ]
  },
  {
   "cell_type": "code",
   "execution_count": 56,
   "metadata": {},
   "outputs": [
    {
     "name": "stdout",
     "output_type": "stream",
     "text": [
      "Accuracy of Logistic Regression classifier on test set y_log_15: 0.8000\n",
      "[[20  0  0]\n",
      " [ 0  9  0]\n",
      " [ 0 10 11]]\n",
      "Accuracy of Random Forest classifier on test set y_rf_15: 0.9000\n",
      "[[20  0  0]\n",
      " [ 0  8  1]\n",
      " [ 0  4 17]]\n"
     ]
    },
    {
     "name": "stderr",
     "output_type": "stream",
     "text": [
      "C:\\ProgramData\\Anaconda3\\lib\\site-packages\\sklearn\\utils\\validation.py:72: DataConversionWarning: A column-vector y was passed when a 1d array was expected. Please change the shape of y to (n_samples, ), for example using ravel().\n",
      "  return f(**kwargs)\n",
      "C:\\ProgramData\\Anaconda3\\lib\\site-packages\\ipykernel_launcher.py:11: DataConversionWarning: A column-vector y was passed when a 1d array was expected. Please change the shape of y to (n_samples,), for example using ravel().\n",
      "  # This is added back by InteractiveShellApp.init_path()\n"
     ]
    }
   ],
   "source": [
    "X8 = X3.loc[:, X3.columns == 'cls5']\n",
    "X_train, X_test, y_train, y_test = train_test_split(X8, y, test_size=0.33, random_state=47)\n",
    "logreg = LogisticRegression(random_state=47)\n",
    "logreg.fit(X_train, y_train)\n",
    "y_log_15 = logreg.predict(X_test)\n",
    "acc_log_15 = logreg.score(X_test, y_test)\n",
    "print('Accuracy of Logistic Regression classifier on test set y_log_15: {:.4f}'.format(acc_log_15))\n",
    "confusion_matrix1 = confusion_matrix(y_test, y_log_15)\n",
    "print(confusion_matrix1)\n",
    "rf = RandomForestClassifier(random_state=47)\n",
    "rf.fit(X_train, y_train)\n",
    "y_rf_15 = rf.predict(X_test)\n",
    "acc_rf_15 = rf.score(X_test, y_test)\n",
    "print('Accuracy of Random Forest classifier on test set y_rf_15: {:.4f}'.format(acc_rf_15))\n",
    "confusion_matrix2 = confusion_matrix(y_test, y_rf_15)\n",
    "print(confusion_matrix2)"
   ]
  },
  {
   "cell_type": "markdown",
   "metadata": {},
   "source": [
    "## 7. LogReg() and RF() using 1 feature (cls) (25,1,25)"
   ]
  },
  {
   "cell_type": "code",
   "execution_count": 57,
   "metadata": {},
   "outputs": [
    {
     "name": "stderr",
     "output_type": "stream",
     "text": [
      "C:\\ProgramData\\Anaconda3\\lib\\site-packages\\sklearn\\utils\\validation.py:72: DataConversionWarning: A column-vector y was passed when a 1d array was expected. Please change the shape of y to (n_samples, ), for example using ravel().\n",
      "  return f(**kwargs)\n",
      "C:\\ProgramData\\Anaconda3\\lib\\site-packages\\ipykernel_launcher.py:11: DataConversionWarning: A column-vector y was passed when a 1d array was expected. Please change the shape of y to (n_samples,), for example using ravel().\n",
      "  # This is added back by InteractiveShellApp.init_path()\n"
     ]
    },
    {
     "name": "stdout",
     "output_type": "stream",
     "text": [
      "Accuracy of Logistic Regression classifier on test set y_log_16: 0.8400\n",
      "[[20  0  0]\n",
      " [ 0  9  0]\n",
      " [ 0  8 13]]\n",
      "Accuracy of Random Forest classifier on test set y_rf_16: 0.9000\n",
      "[[20  0  0]\n",
      " [ 0  8  1]\n",
      " [ 0  4 17]]\n"
     ]
    }
   ],
   "source": [
    "X9 = X3.loc[:, X3.columns == 'cls6']\n",
    "X_train, X_test, y_train, y_test = train_test_split(X9, y, test_size=0.33, random_state=47)\n",
    "logreg = LogisticRegression(random_state=47)\n",
    "logreg.fit(X_train, y_train)\n",
    "y_log_16 = logreg.predict(X_test)\n",
    "acc_log_16 = logreg.score(X_test, y_test)\n",
    "print('Accuracy of Logistic Regression classifier on test set y_log_16: {:.4f}'.format(acc_log_16))\n",
    "confusion_matrix1 = confusion_matrix(y_test, y_log_16)\n",
    "print(confusion_matrix1)\n",
    "rf = RandomForestClassifier(random_state=47)\n",
    "rf.fit(X_train, y_train)\n",
    "y_rf_16 = rf.predict(X_test)\n",
    "acc_rf_16 = rf.score(X_test, y_test)\n",
    "print('Accuracy of Random Forest classifier on test set y_rf_16: {:.4f}'.format(acc_rf_16))\n",
    "confusion_matrix2 = confusion_matrix(y_test, y_rf_16)\n",
    "print(confusion_matrix2)"
   ]
  },
  {
   "cell_type": "markdown",
   "metadata": {},
   "source": [
    "## Compare Models Performance"
   ]
  },
  {
   "cell_type": "code",
   "execution_count": 58,
   "metadata": {},
   "outputs": [],
   "source": [
    "models = ['4 features LoReg','4 features RF','cls(2,1,2) LoReg', 'cls(2,1,2) RF',\n",
    "          'cls(5,1,5) LoReg', 'cls(5,1,5) RF', 'cls(10,1,10) LoReg', 'cls(10,1,10) RF',\n",
    "          'cls(15,1,15) LoReg', 'cls(15,1,15) RF','cls(20,1,20) LoReg', 'cls(20,1,20) RF',\n",
    "          'cls(25,1,25) LoReg', 'cls(25,1,25) RF']\n",
    "tests_accuracy = [acc_log_4, acc_rf_4, acc_log_11, acc_rf_11, \n",
    "                  acc_log_12, acc_rf_12, acc_log_13, acc_rf_13,\n",
    "                  acc_log_14, acc_rf_14, acc_log_15, acc_rf_15, \n",
    "                  acc_log_13, acc_rf_16]"
   ]
  },
  {
   "cell_type": "code",
   "execution_count": 59,
   "metadata": {},
   "outputs": [
    {
     "data": {
      "text/html": [
       "<div>\n",
       "<style scoped>\n",
       "    .dataframe tbody tr th:only-of-type {\n",
       "        vertical-align: middle;\n",
       "    }\n",
       "\n",
       "    .dataframe tbody tr th {\n",
       "        vertical-align: top;\n",
       "    }\n",
       "\n",
       "    .dataframe thead th {\n",
       "        text-align: right;\n",
       "    }\n",
       "</style>\n",
       "<table border=\"1\" class=\"dataframe\">\n",
       "  <thead>\n",
       "    <tr style=\"text-align: right;\">\n",
       "      <th></th>\n",
       "      <th>Algorithms</th>\n",
       "      <th>Tests Accuracy</th>\n",
       "    </tr>\n",
       "  </thead>\n",
       "  <tbody>\n",
       "    <tr>\n",
       "      <th>0</th>\n",
       "      <td>4 features LoReg</td>\n",
       "      <td>0.98</td>\n",
       "    </tr>\n",
       "    <tr>\n",
       "      <th>1</th>\n",
       "      <td>4 features RF</td>\n",
       "      <td>0.96</td>\n",
       "    </tr>\n",
       "    <tr>\n",
       "      <th>5</th>\n",
       "      <td>cls(5,1,5) RF</td>\n",
       "      <td>0.92</td>\n",
       "    </tr>\n",
       "    <tr>\n",
       "      <th>11</th>\n",
       "      <td>cls(20,1,20) RF</td>\n",
       "      <td>0.90</td>\n",
       "    </tr>\n",
       "    <tr>\n",
       "      <th>13</th>\n",
       "      <td>cls(25,1,25) RF</td>\n",
       "      <td>0.90</td>\n",
       "    </tr>\n",
       "    <tr>\n",
       "      <th>7</th>\n",
       "      <td>cls(10,1,10) RF</td>\n",
       "      <td>0.88</td>\n",
       "    </tr>\n",
       "    <tr>\n",
       "      <th>9</th>\n",
       "      <td>cls(15,1,15) RF</td>\n",
       "      <td>0.86</td>\n",
       "    </tr>\n",
       "    <tr>\n",
       "      <th>10</th>\n",
       "      <td>cls(20,1,20) LoReg</td>\n",
       "      <td>0.80</td>\n",
       "    </tr>\n",
       "    <tr>\n",
       "      <th>4</th>\n",
       "      <td>cls(5,1,5) LoReg</td>\n",
       "      <td>0.74</td>\n",
       "    </tr>\n",
       "    <tr>\n",
       "      <th>2</th>\n",
       "      <td>cls(2,1,2) LoReg</td>\n",
       "      <td>0.58</td>\n",
       "    </tr>\n",
       "    <tr>\n",
       "      <th>3</th>\n",
       "      <td>cls(2,1,2) RF</td>\n",
       "      <td>0.58</td>\n",
       "    </tr>\n",
       "    <tr>\n",
       "      <th>6</th>\n",
       "      <td>cls(10,1,10) LoReg</td>\n",
       "      <td>0.58</td>\n",
       "    </tr>\n",
       "    <tr>\n",
       "      <th>8</th>\n",
       "      <td>cls(15,1,15) LoReg</td>\n",
       "      <td>0.58</td>\n",
       "    </tr>\n",
       "    <tr>\n",
       "      <th>12</th>\n",
       "      <td>cls(25,1,25) LoReg</td>\n",
       "      <td>0.58</td>\n",
       "    </tr>\n",
       "  </tbody>\n",
       "</table>\n",
       "</div>"
      ],
      "text/plain": [
       "            Algorithms  Tests Accuracy\n",
       "0     4 features LoReg            0.98\n",
       "1        4 features RF            0.96\n",
       "5        cls(5,1,5) RF            0.92\n",
       "11     cls(20,1,20) RF            0.90\n",
       "13     cls(25,1,25) RF            0.90\n",
       "7      cls(10,1,10) RF            0.88\n",
       "9      cls(15,1,15) RF            0.86\n",
       "10  cls(20,1,20) LoReg            0.80\n",
       "4     cls(5,1,5) LoReg            0.74\n",
       "2     cls(2,1,2) LoReg            0.58\n",
       "3        cls(2,1,2) RF            0.58\n",
       "6   cls(10,1,10) LoReg            0.58\n",
       "8   cls(15,1,15) LoReg            0.58\n",
       "12  cls(25,1,25) LoReg            0.58"
      ]
     },
     "execution_count": 59,
     "metadata": {},
     "output_type": "execute_result"
    }
   ],
   "source": [
    "compare_models = pd.DataFrame({ \"Algorithms\": models, \"Tests Accuracy\": tests_accuracy })\n",
    "compare_models.sort_values(by = \"Tests Accuracy\", ascending = False)"
   ]
  },
  {
   "cell_type": "code",
   "execution_count": 60,
   "metadata": {},
   "outputs": [
    {
     "data": {
      "image/png": "[encoded data removed]",
      "text/plain": [
       "<Figure size 576x576 with 1 Axes>"
      ]
     },
     "metadata": {},
     "output_type": "display_data"
    }
   ],
   "source": [
    "import matplotlib.pyplot as plt\n",
    "%matplotlib inline\n",
    "import seaborn as sns\n",
    "sns.set(style=\"white\")\n",
    "sns.set(style=\"whitegrid\", color_codes=True)\n",
    "plt.figure(figsize=(8,8))\n",
    "sns.barplot(x = \"Tests Accuracy\", y = \"Algorithms\", data = compare_models)\n",
    "plt.show()"
   ]
  },
  {
   "cell_type": "markdown",
   "metadata": {},
   "source": [
    "## Conclusion"
   ]
  },
  {
   "cell_type": "markdown",
   "metadata": {},
   "source": [
    "#### The 4 features Random Forest Classifier wins it all here with a maximum accuracy of 0.98."
   ]
  }
 ],
 "metadata": {
  "kernelspec": {
   "display_name": "Python 3",
   "language": "python",
   "name": "python3"
  },
  "language_info": {
   "codemirror_mode": {
    "name": "ipython",
    "version": 3
   },
   "file_extension": ".py",
   "mimetype": "text/x-python",
   "name": "python",
   "nbconvert_exporter": "python",
   "pygments_lexer": "ipython3",
   "version": "3.7.4"
  }
 },
 "nbformat": 4,
 "nbformat_minor": 2
}
